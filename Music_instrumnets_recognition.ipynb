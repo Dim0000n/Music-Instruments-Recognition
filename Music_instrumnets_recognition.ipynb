{
  "nbformat": 4,
  "nbformat_minor": 0,
  "metadata": {
    "colab": {
      "name": "Music instrumnets recognition.ipynb",
      "provenance": [],
      "collapsed_sections": [],
      "authorship_tag": "ABX9TyOktNTHfBMGDCNxL9rqej4b",
      "include_colab_link": true
    },
    "kernelspec": {
      "name": "python3",
      "display_name": "Python 3"
    },
    "language_info": {
      "name": "python"
    }
  },
  "cells": [
    {
      "cell_type": "markdown",
      "metadata": {
        "id": "view-in-github",
        "colab_type": "text"
      },
      "source": [
        "<a href=\"https://colab.research.google.com/github/Dim0000n/Music-Instruments-Recognition/blob/main/Music_instrumnets_recognition.ipynb\" target=\"_parent\"><img src=\"https://colab.research.google.com/assets/colab-badge.svg\" alt=\"Open In Colab\"/></a>"
      ]
    },
    {
      "cell_type": "markdown",
      "metadata": {
        "id": "N_vU0SnlpuZY"
      },
      "source": [
        "#Введение"
      ]
    },
    {
      "cell_type": "markdown",
      "metadata": {
        "id": "MMepSdJlpUg_"
      },
      "source": [
        "Выбранная база данных представляет собой набор сэмплов музыкальных инструментов для распознования. Базу данных можно доступна по ссылке https://zenodo.org/record/2552860#.YJf5gLUzaUl"
      ]
    },
    {
      "cell_type": "markdown",
      "metadata": {
        "id": "aAJZ1lp2pxZE"
      },
      "source": [
        "#Библиотеки"
      ]
    },
    {
      "cell_type": "code",
      "metadata": {
        "id": "6AQUFXISpM-h"
      },
      "source": [
        "from google.colab import files\n",
        "import os\n",
        "import librosa\n",
        "import numpy as np\n",
        "import matplotlib.pyplot as plt\n",
        "import pandas as pd\n",
        "\n",
        "from tensorflow.keras.optimizers import RMSprop,Adam\n",
        "from tensorflow.keras.models import Sequential\n",
        "from tensorflow.keras.layers import Dense,Dropout,BatchNormalization\n",
        "\n",
        "\n",
        "from sklearn.model_selection import train_test_split\n",
        "from sklearn.preprocessing import StandardScaler\n",
        "\n",
        "from IPython.display import clear_output"
      ],
      "execution_count": null,
      "outputs": []
    },
    {
      "cell_type": "code",
      "metadata": {
        "colab": {
          "base_uri": "https://localhost:8080/"
        },
        "id": "nTonAml9qQSw",
        "outputId": "09c7f840-a0c3-42eb-d3dc-3da0d3d96e9d"
      },
      "source": [
        "from google.colab import  drive\n",
        "drive.mount(\"/content/drive\")"
      ],
      "execution_count": null,
      "outputs": [
        {
          "output_type": "stream",
          "text": [
            "Mounted at /content/drive\n"
          ],
          "name": "stdout"
        }
      ]
    },
    {
      "cell_type": "markdown",
      "metadata": {
        "id": "jeYnc6rsufp4"
      },
      "source": [
        "#Загрузка данных"
      ]
    },
    {
      "cell_type": "code",
      "metadata": {
        "id": "jS145qYIqkmd"
      },
      "source": [
        "#загрузка таблиц с метками классов\n",
        "data_train=pd.read_csv(\"/content/drive/MyDrive/UAI/Audio_Processing/Ultrapro/train_post_competition.csv\")\n",
        "data_test=pd.read_csv(\"/content/drive/MyDrive/UAI/Audio_Processing/Ultrapro/test_post_competition_scoring_clips.csv\")"
      ],
      "execution_count": null,
      "outputs": []
    },
    {
      "cell_type": "code",
      "metadata": {
        "colab": {
          "base_uri": "https://localhost:8080/",
          "height": 198
        },
        "id": "PRw9dNiFq2rB",
        "outputId": "7b1ddf5b-d603-4897-ba3c-eda04a531a6e"
      },
      "source": [
        "data_train.head()"
      ],
      "execution_count": null,
      "outputs": [
        {
          "output_type": "execute_result",
          "data": {
            "text/html": [
              "<div>\n",
              "<style scoped>\n",
              "    .dataframe tbody tr th:only-of-type {\n",
              "        vertical-align: middle;\n",
              "    }\n",
              "\n",
              "    .dataframe tbody tr th {\n",
              "        vertical-align: top;\n",
              "    }\n",
              "\n",
              "    .dataframe thead th {\n",
              "        text-align: right;\n",
              "    }\n",
              "</style>\n",
              "<table border=\"1\" class=\"dataframe\">\n",
              "  <thead>\n",
              "    <tr style=\"text-align: right;\">\n",
              "      <th></th>\n",
              "      <th>fname</th>\n",
              "      <th>label</th>\n",
              "      <th>manually_verified</th>\n",
              "      <th>freesound_id</th>\n",
              "      <th>license</th>\n",
              "    </tr>\n",
              "  </thead>\n",
              "  <tbody>\n",
              "    <tr>\n",
              "      <th>0</th>\n",
              "      <td>00044347.wav</td>\n",
              "      <td>Hi-hat</td>\n",
              "      <td>0</td>\n",
              "      <td>28739</td>\n",
              "      <td>Attribution</td>\n",
              "    </tr>\n",
              "    <tr>\n",
              "      <th>1</th>\n",
              "      <td>001ca53d.wav</td>\n",
              "      <td>Saxophone</td>\n",
              "      <td>1</td>\n",
              "      <td>358827</td>\n",
              "      <td>Attribution</td>\n",
              "    </tr>\n",
              "    <tr>\n",
              "      <th>2</th>\n",
              "      <td>002d256b.wav</td>\n",
              "      <td>Trumpet</td>\n",
              "      <td>0</td>\n",
              "      <td>10897</td>\n",
              "      <td>Creative Commons 0</td>\n",
              "    </tr>\n",
              "    <tr>\n",
              "      <th>3</th>\n",
              "      <td>0033e230.wav</td>\n",
              "      <td>Glockenspiel</td>\n",
              "      <td>1</td>\n",
              "      <td>325017</td>\n",
              "      <td>Attribution</td>\n",
              "    </tr>\n",
              "    <tr>\n",
              "      <th>4</th>\n",
              "      <td>00353774.wav</td>\n",
              "      <td>Cello</td>\n",
              "      <td>1</td>\n",
              "      <td>195688</td>\n",
              "      <td>Attribution</td>\n",
              "    </tr>\n",
              "  </tbody>\n",
              "</table>\n",
              "</div>"
            ],
            "text/plain": [
              "          fname         label  ...  freesound_id             license\n",
              "0  00044347.wav        Hi-hat  ...         28739         Attribution\n",
              "1  001ca53d.wav     Saxophone  ...        358827         Attribution\n",
              "2  002d256b.wav       Trumpet  ...         10897  Creative Commons 0\n",
              "3  0033e230.wav  Glockenspiel  ...        325017         Attribution\n",
              "4  00353774.wav         Cello  ...        195688         Attribution\n",
              "\n",
              "[5 rows x 5 columns]"
            ]
          },
          "metadata": {
            "tags": []
          },
          "execution_count": 4
        }
      ]
    },
    {
      "cell_type": "code",
      "metadata": {
        "colab": {
          "base_uri": "https://localhost:8080/"
        },
        "id": "1T_DRijari2w",
        "outputId": "1f84de4b-baf7-4b14-ab72-5c3e5cae5e07"
      },
      "source": [
        "data_train.shape"
      ],
      "execution_count": null,
      "outputs": [
        {
          "output_type": "execute_result",
          "data": {
            "text/plain": [
              "(9473, 5)"
            ]
          },
          "metadata": {
            "tags": []
          },
          "execution_count": 5
        }
      ]
    },
    {
      "cell_type": "code",
      "metadata": {
        "colab": {
          "base_uri": "https://localhost:8080/",
          "height": 198
        },
        "id": "NEQ5Yr7brG1R",
        "outputId": "bf5fb4c2-d4bb-42b0-9d18-1b5ab7643787"
      },
      "source": [
        "data_test.head()"
      ],
      "execution_count": null,
      "outputs": [
        {
          "output_type": "execute_result",
          "data": {
            "text/html": [
              "<div>\n",
              "<style scoped>\n",
              "    .dataframe tbody tr th:only-of-type {\n",
              "        vertical-align: middle;\n",
              "    }\n",
              "\n",
              "    .dataframe tbody tr th {\n",
              "        vertical-align: top;\n",
              "    }\n",
              "\n",
              "    .dataframe thead th {\n",
              "        text-align: right;\n",
              "    }\n",
              "</style>\n",
              "<table border=\"1\" class=\"dataframe\">\n",
              "  <thead>\n",
              "    <tr style=\"text-align: right;\">\n",
              "      <th></th>\n",
              "      <th>fname</th>\n",
              "      <th>label</th>\n",
              "      <th>usage</th>\n",
              "      <th>freesound_id</th>\n",
              "      <th>license</th>\n",
              "    </tr>\n",
              "  </thead>\n",
              "  <tbody>\n",
              "    <tr>\n",
              "      <th>0</th>\n",
              "      <td>00326aa9.wav</td>\n",
              "      <td>Oboe</td>\n",
              "      <td>Private</td>\n",
              "      <td>355125</td>\n",
              "      <td>Attribution</td>\n",
              "    </tr>\n",
              "    <tr>\n",
              "      <th>1</th>\n",
              "      <td>0038a046.wav</td>\n",
              "      <td>Bass_drum</td>\n",
              "      <td>Private</td>\n",
              "      <td>90621</td>\n",
              "      <td>Creative Commons 0</td>\n",
              "    </tr>\n",
              "    <tr>\n",
              "      <th>2</th>\n",
              "      <td>007759c4.wav</td>\n",
              "      <td>Saxophone</td>\n",
              "      <td>Private</td>\n",
              "      <td>13406</td>\n",
              "      <td>Creative Commons 0</td>\n",
              "    </tr>\n",
              "    <tr>\n",
              "      <th>3</th>\n",
              "      <td>008afd93.wav</td>\n",
              "      <td>Saxophone</td>\n",
              "      <td>Private</td>\n",
              "      <td>358962</td>\n",
              "      <td>Attribution</td>\n",
              "    </tr>\n",
              "    <tr>\n",
              "      <th>4</th>\n",
              "      <td>00ae03f6.wav</td>\n",
              "      <td>Chime</td>\n",
              "      <td>Private</td>\n",
              "      <td>78203</td>\n",
              "      <td>Attribution</td>\n",
              "    </tr>\n",
              "  </tbody>\n",
              "</table>\n",
              "</div>"
            ],
            "text/plain": [
              "          fname      label    usage  freesound_id             license\n",
              "0  00326aa9.wav       Oboe  Private        355125         Attribution\n",
              "1  0038a046.wav  Bass_drum  Private         90621  Creative Commons 0\n",
              "2  007759c4.wav  Saxophone  Private         13406  Creative Commons 0\n",
              "3  008afd93.wav  Saxophone  Private        358962         Attribution\n",
              "4  00ae03f6.wav      Chime  Private         78203         Attribution"
            ]
          },
          "metadata": {
            "tags": []
          },
          "execution_count": 6
        }
      ]
    },
    {
      "cell_type": "markdown",
      "metadata": {
        "id": "kaiARqqDtwsC"
      },
      "source": [
        "Прроверим количество и совпадение классов в тесотвой и проверочной выборке "
      ]
    },
    {
      "cell_type": "code",
      "metadata": {
        "colab": {
          "base_uri": "https://localhost:8080/",
          "height": 35
        },
        "id": "QELrGVACzi0F",
        "outputId": "539ded58-20f4-427d-853e-4cb2ead1223d"
      },
      "source": [
        "data_test[data_test.fname==\"00326aa9.wav\"].label[0]"
      ],
      "execution_count": null,
      "outputs": [
        {
          "output_type": "execute_result",
          "data": {
            "application/vnd.google.colaboratory.intrinsic+json": {
              "type": "string"
            },
            "text/plain": [
              "'Oboe'"
            ]
          },
          "metadata": {
            "tags": []
          },
          "execution_count": 7
        }
      ]
    },
    {
      "cell_type": "code",
      "metadata": {
        "colab": {
          "base_uri": "https://localhost:8080/"
        },
        "id": "IJZqDneXrMIL",
        "outputId": "edb5e3a2-9f11-4d25-fb4a-0107de4ad2f5"
      },
      "source": [
        "train_class=data_train.label.unique() #уникальныен классы обучающей выборки\n",
        "train_class.size"
      ],
      "execution_count": null,
      "outputs": [
        {
          "output_type": "execute_result",
          "data": {
            "text/plain": [
              "41"
            ]
          },
          "metadata": {
            "tags": []
          },
          "execution_count": 10
        }
      ]
    },
    {
      "cell_type": "code",
      "metadata": {
        "colab": {
          "base_uri": "https://localhost:8080/"
        },
        "id": "dddaKvOhr7gg",
        "outputId": "587f82e2-5f14-4470-dbcc-c48994b4bad4"
      },
      "source": [
        "test_class=data_test.label.unique()  #уникальныен классы проерочной выборки\n",
        "test_class.size"
      ],
      "execution_count": null,
      "outputs": [
        {
          "output_type": "execute_result",
          "data": {
            "text/plain": [
              "41"
            ]
          },
          "metadata": {
            "tags": []
          },
          "execution_count": 11
        }
      ]
    },
    {
      "cell_type": "code",
      "metadata": {
        "id": "NkaLRHj_tAZ1"
      },
      "source": [
        "#сортировка\n",
        "train_class=np.sort(train_class)\n",
        "test_class=np.sort(test_class)"
      ],
      "execution_count": null,
      "outputs": []
    },
    {
      "cell_type": "code",
      "metadata": {
        "colab": {
          "base_uri": "https://localhost:8080/"
        },
        "id": "_gbX3Ce9sqM6",
        "outputId": "1e404075-49aa-4856-c088-1e652bbe8c3e"
      },
      "source": [
        "#проверка на совпадение\n",
        "if (train_class.all()==test_class.all()):\n",
        "  print(\"Классы совпадают\")\n",
        "else:\n",
        "  print(\"Классы НЕ совпадают\")"
      ],
      "execution_count": null,
      "outputs": [
        {
          "output_type": "stream",
          "text": [
            "Классы совпадают\n"
          ],
          "name": "stdout"
        }
      ]
    },
    {
      "cell_type": "code",
      "metadata": {
        "id": "WTqcz37kuoxQ"
      },
      "source": [
        "#загрузка аудиофайлов"
      ],
      "execution_count": null,
      "outputs": []
    },
    {
      "cell_type": "code",
      "metadata": {
        "id": "NTjRixX4urXY"
      },
      "source": [
        "!unzip -q \"/content/drive/MyDrive/UAI/Audio_Processing/FSDKaggle2018.audio_train.zip\" -d /content/train\n",
        "!unzip -q \"/content/drive/MyDrive/UAI/Audio_Processing/FSDKaggle2018.audio_test.zip\" -d /content/test"
      ],
      "execution_count": null,
      "outputs": []
    },
    {
      "cell_type": "code",
      "metadata": {
        "id": "lyyEMrHAyWQ-"
      },
      "source": [
        "classes=list(train_class)  #переводим классы в list "
      ],
      "execution_count": null,
      "outputs": []
    },
    {
      "cell_type": "code",
      "metadata": {
        "colab": {
          "base_uri": "https://localhost:8080/"
        },
        "id": "GslGQjLAa3EC",
        "outputId": "248d1621-28d6-41d7-f423-ddd013dfad3a"
      },
      "source": [
        "classes"
      ],
      "execution_count": null,
      "outputs": [
        {
          "output_type": "execute_result",
          "data": {
            "text/plain": [
              "['Acoustic_guitar',\n",
              " 'Applause',\n",
              " 'Bark',\n",
              " 'Bass_drum',\n",
              " 'Burping_or_eructation',\n",
              " 'Bus',\n",
              " 'Cello',\n",
              " 'Chime',\n",
              " 'Clarinet',\n",
              " 'Computer_keyboard',\n",
              " 'Cough',\n",
              " 'Cowbell',\n",
              " 'Double_bass',\n",
              " 'Drawer_open_or_close',\n",
              " 'Electric_piano',\n",
              " 'Fart',\n",
              " 'Finger_snapping',\n",
              " 'Fireworks',\n",
              " 'Flute',\n",
              " 'Glockenspiel',\n",
              " 'Gong',\n",
              " 'Gunshot_or_gunfire',\n",
              " 'Harmonica',\n",
              " 'Hi-hat',\n",
              " 'Keys_jangling',\n",
              " 'Knock',\n",
              " 'Laughter',\n",
              " 'Meow',\n",
              " 'Microwave_oven',\n",
              " 'Oboe',\n",
              " 'Saxophone',\n",
              " 'Scissors',\n",
              " 'Shatter',\n",
              " 'Snare_drum',\n",
              " 'Squeak',\n",
              " 'Tambourine',\n",
              " 'Tearing',\n",
              " 'Telephone',\n",
              " 'Trumpet',\n",
              " 'Violin_or_fiddle',\n",
              " 'Writing']"
            ]
          },
          "metadata": {
            "tags": []
          },
          "execution_count": 42
        }
      ]
    },
    {
      "cell_type": "markdown",
      "metadata": {
        "id": "AaRZovutwAem"
      },
      "source": [
        "#Обработка данных"
      ]
    },
    {
      "cell_type": "code",
      "metadata": {
        "id": "JkLb-ImCv-7N"
      },
      "source": [
        "#функция извлечения признаков\n",
        "\n",
        "def get_features (y,sr):\n",
        "  chroma_stft=librosa.feature.chroma_stft(y=y,sr=sr)\n",
        "  mfcc=librosa.feature.mfcc(y=y,sr=sr)\n",
        "\n",
        "  rmse=np.mean(librosa.feature.rms(y=y))\n",
        "  spec_cent=np.mean(librosa.feature.spectral_centroid(y=y,sr=sr))\n",
        "  spec_bw=np.mean(librosa.feature.spectral_bandwidth(y=y,sr=sr))\n",
        "  rolloff=np.mean(librosa.feature.spectral_rolloff(y=y,sr=sr))\n",
        "  zcr=np.mean(librosa.feature.zero_crossing_rate(y))\n",
        "\n",
        "  out=[]\n",
        "  out.append(rmse)\n",
        "  out.append(spec_cent)\n",
        "  out.append(spec_bw)\n",
        "  out.append(rolloff)\n",
        "  out.append(zcr)\n",
        "\n",
        "  for e in mfcc:\n",
        "    out.append(np.mean(e))\n",
        "\n",
        "  for e in chroma_stft:\n",
        "    out.append(np.mean(e))\n",
        "\n",
        "  return out"
      ],
      "execution_count": null,
      "outputs": []
    },
    {
      "cell_type": "code",
      "metadata": {
        "id": "WMVZvo0CxFrU"
      },
      "source": [
        "#функция парсинга данных\n",
        "\n",
        "def getData(path,df):\n",
        "  amount=df.shape[0]\n",
        "  xSet=[]\n",
        "  ySet=[]\n",
        "  counter=0\n",
        "  for filename in os.listdir(path):      #сканирование по всем файлам\n",
        "    songname=path+f'/{filename}'\n",
        "    y,sr=librosa.load(songname,mono=True)  #загрузка файла\n",
        "    out=get_features(y,sr)          #извлечение признаков\n",
        "    xSet.append(out)    #добавление признаков в xTrain\n",
        "    ySet.append(classes.index(df[df.fname==filename].label.values[0]))      #добавление метки жанра в yTrain\n",
        "    counter+=1\n",
        "    #вывод процента выполнения\n",
        "    perc=round(counter/amount*100,2)\n",
        "    clear_output()\n",
        "    print(\"Выполнено {} %\".format(perc))\n",
        "    \n",
        "  xSet=np.array(xSet)\n",
        "  ySet=np.array(ySet)\n",
        "\n",
        "  return xSet,ySet"
      ],
      "execution_count": null,
      "outputs": []
    },
    {
      "cell_type": "code",
      "metadata": {
        "colab": {
          "base_uri": "https://localhost:8080/"
        },
        "id": "LJWMRjNU0V0v",
        "outputId": "a83da0dd-8aa2-4481-fc9c-555ae9ce5a5a"
      },
      "source": [
        "xTrain,yTrain=getData(\"/content/train/FSDKaggle2018.audio_train\",data_train) #формируем обучающую выборку"
      ],
      "execution_count": null,
      "outputs": [
        {
          "output_type": "stream",
          "text": [
            "Выполнено 100.0 %\n"
          ],
          "name": "stdout"
        }
      ]
    },
    {
      "cell_type": "code",
      "metadata": {
        "id": "lF0qVilA5zSW"
      },
      "source": [
        "#сохраняем\n",
        "np.save(\"xTrain\",xTrain)\n",
        "np.save(\"yTrain\",yTrain)\n",
        "\n",
        "np.save(\"/content/drive/MyDrive/UAI/Audio_Processing/xTrain\",xTrain)\n",
        "np.save(\"/content/drive/MyDrive/UAI/Audio_Processing/yTrain\",yTrain)"
      ],
      "execution_count": null,
      "outputs": []
    },
    {
      "cell_type": "code",
      "metadata": {
        "colab": {
          "base_uri": "https://localhost:8080/"
        },
        "id": "Xm0yW2qQXZe9",
        "outputId": "1f637537-0561-4fa1-fa3c-92a116cd526d"
      },
      "source": [
        "xTest,yTest=getData(\"/content/test/FSDKaggle2018.audio_test\",data_test) #формируем тестовую выборку"
      ],
      "execution_count": null,
      "outputs": [
        {
          "output_type": "stream",
          "text": [
            "Выполнено 100.0 %\n"
          ],
          "name": "stdout"
        }
      ]
    },
    {
      "cell_type": "code",
      "metadata": {
        "id": "gbFMbU36Xw3I"
      },
      "source": [
        "#сохраняем\n",
        "np.save(\"xTest\",xTest)\n",
        "np.save(\"yTest\",yTest)\n",
        "\n",
        "np.save(\"/content/drive/MyDrive/UAI/Audio_Processing/xTest\",xTest)\n",
        "np.save(\"/content/drive/MyDrive/UAI/Audio_Processing/yTest\",yTest)"
      ],
      "execution_count": null,
      "outputs": []
    },
    {
      "cell_type": "code",
      "metadata": {
        "colab": {
          "base_uri": "https://localhost:8080/"
        },
        "id": "RuLBKbZjZlC6",
        "outputId": "52585f15-611d-402d-c7e1-1adceb200e41"
      },
      "source": [
        "print(\"Размерность xTrain\",xTrain.shape)\n",
        "print(\"Размерность yTrain\",yTrain.shape)\n",
        "print(\"Размерность xTest\",xTest.shape)\n",
        "print(\"Размерность yTest\",yTest.shape)"
      ],
      "execution_count": null,
      "outputs": [
        {
          "output_type": "stream",
          "text": [
            "Размерность xTrain (9473, 37)\n",
            "Размерность yTrain (9473,)\n",
            "Размерность xTest (1600, 37)\n",
            "Размерность yTest (1600,)\n"
          ],
          "name": "stdout"
        }
      ]
    },
    {
      "cell_type": "code",
      "metadata": {
        "id": "ZZ1hKT144cVA"
      },
      "source": [
        "#нормирование данных\n",
        "scaler=StandardScaler()\n",
        "\n",
        "scaler.fit(xTrain)\n",
        "xTrain=scaler.transform(xTrain)\n",
        "xTest=scaler.transform(xTest)"
      ],
      "execution_count": null,
      "outputs": []
    },
    {
      "cell_type": "code",
      "metadata": {
        "id": "HJHmWp4w5OTR"
      },
      "source": [
        "#функция отрисовки графиков\n",
        "def draw(history):\n",
        "  plt.figure(figsize=(15,7))\n",
        "\n",
        "  plt.subplot(121)       #график точности\n",
        "  plt.plot(history.history[\"accuracy\"],label=\"Обучающая выборка\")\n",
        "  plt.plot(history.history[\"val_accuracy\"],label=\"Проверочная выборка\")\n",
        "  plt.title(\"Точнось модели\")\n",
        "  plt.xlabel(\"Эпохи\")\n",
        "  plt.ylabel(\"Доля верных ответов\")\n",
        "\n",
        "  plt.subplot(122)    #график ошибки\n",
        "  plt.plot(history.history[\"loss\"],label=\"Обучающая выборка\")\n",
        "  plt.plot(history.history[\"val_loss\"],label=\"Проверочная выборка\")\n",
        "  plt.title(\"Ошибка модели\")\n",
        "  plt.xlabel(\"Эпохи\")\n",
        "  plt.ylabel(\"Значение ошибки\")\n",
        "\n",
        "  plt.legend()\n",
        "  plt.show()"
      ],
      "execution_count": null,
      "outputs": []
    },
    {
      "cell_type": "markdown",
      "metadata": {
        "id": "HRTnO_Tq5Gf2"
      },
      "source": [
        "#нейронка"
      ]
    },
    {
      "cell_type": "code",
      "metadata": {
        "colab": {
          "base_uri": "https://localhost:8080/",
          "height": 1000
        },
        "id": "jL7oXn9KcI-s",
        "outputId": "0addfde4-3723-4493-af31-1a48e68e5571"
      },
      "source": [
        "#модель\n",
        "model1=Sequential()\n",
        "model1.add(Dense(256,activation=\"elu\",input_shape=(37,)))\n",
        "model1.add(Dropout(0.3))\n",
        "model1.add(Dense(128,activation=\"elu\"))\n",
        "model1.add(Dropout(0.3))\n",
        "model1.add(Dense(len(classes),activation=\"softmax\"))\n",
        "\n",
        "#компиляция\n",
        "model1.compile(optimizer=Adam(lr=1e-3),loss=\"sparse_categorical_crossentropy\",metrics=[\"accuracy\"])\n",
        "\n",
        "#обучение\n",
        "history1=model1.fit(xTrain,yTrain,\n",
        "                    epochs=100,batch_size=20,\n",
        "                    validation_data=(xTest,yTest))\n",
        "\n",
        "draw(history1)"
      ],
      "execution_count": null,
      "outputs": [
        {
          "output_type": "stream",
          "text": [
            "Epoch 1/100\n",
            "474/474 [==============================] - 2s 3ms/step - loss: 2.9190 - accuracy: 0.2233 - val_loss: 1.9938 - val_accuracy: 0.4431\n",
            "Epoch 2/100\n",
            "474/474 [==============================] - 1s 2ms/step - loss: 2.2335 - accuracy: 0.3943 - val_loss: 1.8036 - val_accuracy: 0.5050\n",
            "Epoch 3/100\n",
            "474/474 [==============================] - 1s 2ms/step - loss: 2.1037 - accuracy: 0.4221 - val_loss: 1.7475 - val_accuracy: 0.5050\n",
            "Epoch 4/100\n",
            "474/474 [==============================] - 1s 2ms/step - loss: 2.0622 - accuracy: 0.4366 - val_loss: 1.7089 - val_accuracy: 0.5281\n",
            "Epoch 5/100\n",
            "474/474 [==============================] - 1s 2ms/step - loss: 1.9289 - accuracy: 0.4737 - val_loss: 1.6489 - val_accuracy: 0.5406\n",
            "Epoch 6/100\n",
            "474/474 [==============================] - 1s 2ms/step - loss: 1.8964 - accuracy: 0.4804 - val_loss: 1.5840 - val_accuracy: 0.5694\n",
            "Epoch 7/100\n",
            "474/474 [==============================] - 1s 3ms/step - loss: 1.8521 - accuracy: 0.4832 - val_loss: 1.5673 - val_accuracy: 0.5681\n",
            "Epoch 8/100\n",
            "474/474 [==============================] - 1s 2ms/step - loss: 1.7973 - accuracy: 0.4992 - val_loss: 1.5598 - val_accuracy: 0.5650\n",
            "Epoch 9/100\n",
            "474/474 [==============================] - 1s 2ms/step - loss: 1.7948 - accuracy: 0.4999 - val_loss: 1.5367 - val_accuracy: 0.5644\n",
            "Epoch 10/100\n",
            "474/474 [==============================] - 1s 2ms/step - loss: 1.7547 - accuracy: 0.5158 - val_loss: 1.4861 - val_accuracy: 0.5775\n",
            "Epoch 11/100\n",
            "474/474 [==============================] - 1s 3ms/step - loss: 1.7613 - accuracy: 0.5035 - val_loss: 1.4746 - val_accuracy: 0.5931\n",
            "Epoch 12/100\n",
            "474/474 [==============================] - 1s 3ms/step - loss: 1.7108 - accuracy: 0.5198 - val_loss: 1.4466 - val_accuracy: 0.5956\n",
            "Epoch 13/100\n",
            "474/474 [==============================] - 1s 2ms/step - loss: 1.7047 - accuracy: 0.5254 - val_loss: 1.4414 - val_accuracy: 0.5913\n",
            "Epoch 14/100\n",
            "474/474 [==============================] - 1s 2ms/step - loss: 1.6536 - accuracy: 0.5372 - val_loss: 1.4314 - val_accuracy: 0.5900\n",
            "Epoch 15/100\n",
            "474/474 [==============================] - 1s 2ms/step - loss: 1.6284 - accuracy: 0.5408 - val_loss: 1.4077 - val_accuracy: 0.6112\n",
            "Epoch 16/100\n",
            "474/474 [==============================] - 1s 2ms/step - loss: 1.6360 - accuracy: 0.5456 - val_loss: 1.3862 - val_accuracy: 0.6087\n",
            "Epoch 17/100\n",
            "474/474 [==============================] - 1s 2ms/step - loss: 1.6134 - accuracy: 0.5451 - val_loss: 1.3751 - val_accuracy: 0.6150\n",
            "Epoch 18/100\n",
            "474/474 [==============================] - 1s 2ms/step - loss: 1.6090 - accuracy: 0.5466 - val_loss: 1.3843 - val_accuracy: 0.6100\n",
            "Epoch 19/100\n",
            "474/474 [==============================] - 1s 2ms/step - loss: 1.5943 - accuracy: 0.5562 - val_loss: 1.3671 - val_accuracy: 0.6206\n",
            "Epoch 20/100\n",
            "474/474 [==============================] - 1s 2ms/step - loss: 1.6014 - accuracy: 0.5575 - val_loss: 1.3573 - val_accuracy: 0.6250\n",
            "Epoch 21/100\n",
            "474/474 [==============================] - 1s 2ms/step - loss: 1.5677 - accuracy: 0.5697 - val_loss: 1.3398 - val_accuracy: 0.6275\n",
            "Epoch 22/100\n",
            "474/474 [==============================] - 1s 2ms/step - loss: 1.5439 - accuracy: 0.5622 - val_loss: 1.3911 - val_accuracy: 0.6087\n",
            "Epoch 23/100\n",
            "474/474 [==============================] - 1s 2ms/step - loss: 1.5418 - accuracy: 0.5708 - val_loss: 1.3352 - val_accuracy: 0.6319\n",
            "Epoch 24/100\n",
            "474/474 [==============================] - 1s 2ms/step - loss: 1.5408 - accuracy: 0.5673 - val_loss: 1.3168 - val_accuracy: 0.6388\n",
            "Epoch 25/100\n",
            "474/474 [==============================] - 1s 2ms/step - loss: 1.5005 - accuracy: 0.5762 - val_loss: 1.3393 - val_accuracy: 0.6306\n",
            "Epoch 26/100\n",
            "474/474 [==============================] - 1s 2ms/step - loss: 1.5001 - accuracy: 0.5746 - val_loss: 1.3129 - val_accuracy: 0.6294\n",
            "Epoch 27/100\n",
            "474/474 [==============================] - 1s 2ms/step - loss: 1.4960 - accuracy: 0.5782 - val_loss: 1.3314 - val_accuracy: 0.6300\n",
            "Epoch 28/100\n",
            "474/474 [==============================] - 1s 3ms/step - loss: 1.4943 - accuracy: 0.5768 - val_loss: 1.3292 - val_accuracy: 0.6288\n",
            "Epoch 29/100\n",
            "474/474 [==============================] - 1s 2ms/step - loss: 1.4839 - accuracy: 0.5778 - val_loss: 1.2978 - val_accuracy: 0.6381\n",
            "Epoch 30/100\n",
            "474/474 [==============================] - 1s 2ms/step - loss: 1.4216 - accuracy: 0.5977 - val_loss: 1.2997 - val_accuracy: 0.6381\n",
            "Epoch 31/100\n",
            "474/474 [==============================] - 1s 2ms/step - loss: 1.4557 - accuracy: 0.5761 - val_loss: 1.3367 - val_accuracy: 0.6444\n",
            "Epoch 32/100\n",
            "474/474 [==============================] - 1s 2ms/step - loss: 1.4372 - accuracy: 0.5903 - val_loss: 1.2974 - val_accuracy: 0.6413\n",
            "Epoch 33/100\n",
            "474/474 [==============================] - 1s 3ms/step - loss: 1.4296 - accuracy: 0.5881 - val_loss: 1.3132 - val_accuracy: 0.6400\n",
            "Epoch 34/100\n",
            "474/474 [==============================] - 1s 2ms/step - loss: 1.4131 - accuracy: 0.5917 - val_loss: 1.2906 - val_accuracy: 0.6375\n",
            "Epoch 35/100\n",
            "474/474 [==============================] - 1s 2ms/step - loss: 1.4097 - accuracy: 0.5957 - val_loss: 1.3128 - val_accuracy: 0.6338\n",
            "Epoch 36/100\n",
            "474/474 [==============================] - 1s 2ms/step - loss: 1.4117 - accuracy: 0.5907 - val_loss: 1.3012 - val_accuracy: 0.6388\n",
            "Epoch 37/100\n",
            "474/474 [==============================] - 1s 2ms/step - loss: 1.4361 - accuracy: 0.5850 - val_loss: 1.3031 - val_accuracy: 0.6444\n",
            "Epoch 38/100\n",
            "474/474 [==============================] - 1s 2ms/step - loss: 1.4083 - accuracy: 0.6017 - val_loss: 1.2768 - val_accuracy: 0.6506\n",
            "Epoch 39/100\n",
            "474/474 [==============================] - 1s 2ms/step - loss: 1.3825 - accuracy: 0.6122 - val_loss: 1.3078 - val_accuracy: 0.6494\n",
            "Epoch 40/100\n",
            "474/474 [==============================] - 1s 2ms/step - loss: 1.4420 - accuracy: 0.5898 - val_loss: 1.2710 - val_accuracy: 0.6506\n",
            "Epoch 41/100\n",
            "474/474 [==============================] - 1s 2ms/step - loss: 1.3713 - accuracy: 0.6068 - val_loss: 1.2793 - val_accuracy: 0.6494\n",
            "Epoch 42/100\n",
            "474/474 [==============================] - 1s 2ms/step - loss: 1.3633 - accuracy: 0.6112 - val_loss: 1.2779 - val_accuracy: 0.6450\n",
            "Epoch 43/100\n",
            "474/474 [==============================] - 1s 2ms/step - loss: 1.3602 - accuracy: 0.6088 - val_loss: 1.2723 - val_accuracy: 0.6406\n",
            "Epoch 44/100\n",
            "474/474 [==============================] - 1s 2ms/step - loss: 1.3874 - accuracy: 0.6056 - val_loss: 1.3176 - val_accuracy: 0.6363\n",
            "Epoch 45/100\n",
            "474/474 [==============================] - 1s 2ms/step - loss: 1.3710 - accuracy: 0.6072 - val_loss: 1.2634 - val_accuracy: 0.6538\n",
            "Epoch 46/100\n",
            "474/474 [==============================] - 1s 2ms/step - loss: 1.3255 - accuracy: 0.6175 - val_loss: 1.2823 - val_accuracy: 0.6438\n",
            "Epoch 47/100\n",
            "474/474 [==============================] - 1s 2ms/step - loss: 1.3514 - accuracy: 0.6094 - val_loss: 1.2724 - val_accuracy: 0.6513\n",
            "Epoch 48/100\n",
            "474/474 [==============================] - 1s 2ms/step - loss: 1.3601 - accuracy: 0.6052 - val_loss: 1.2805 - val_accuracy: 0.6475\n",
            "Epoch 49/100\n",
            "474/474 [==============================] - 1s 2ms/step - loss: 1.3495 - accuracy: 0.6158 - val_loss: 1.2684 - val_accuracy: 0.6562\n",
            "Epoch 50/100\n",
            "474/474 [==============================] - 1s 3ms/step - loss: 1.3178 - accuracy: 0.6135 - val_loss: 1.2967 - val_accuracy: 0.6569\n",
            "Epoch 51/100\n",
            "474/474 [==============================] - 1s 2ms/step - loss: 1.3398 - accuracy: 0.6083 - val_loss: 1.2917 - val_accuracy: 0.6500\n",
            "Epoch 52/100\n",
            "474/474 [==============================] - 1s 2ms/step - loss: 1.3457 - accuracy: 0.6084 - val_loss: 1.2780 - val_accuracy: 0.6550\n",
            "Epoch 53/100\n",
            "474/474 [==============================] - 1s 2ms/step - loss: 1.3243 - accuracy: 0.6168 - val_loss: 1.2919 - val_accuracy: 0.6450\n",
            "Epoch 54/100\n",
            "474/474 [==============================] - 1s 2ms/step - loss: 1.2850 - accuracy: 0.6260 - val_loss: 1.2774 - val_accuracy: 0.6606\n",
            "Epoch 55/100\n",
            "474/474 [==============================] - 1s 2ms/step - loss: 1.2973 - accuracy: 0.6130 - val_loss: 1.2794 - val_accuracy: 0.6525\n",
            "Epoch 56/100\n",
            "474/474 [==============================] - 1s 2ms/step - loss: 1.3151 - accuracy: 0.6216 - val_loss: 1.2937 - val_accuracy: 0.6488\n",
            "Epoch 57/100\n",
            "474/474 [==============================] - 1s 2ms/step - loss: 1.3263 - accuracy: 0.6198 - val_loss: 1.2817 - val_accuracy: 0.6475\n",
            "Epoch 58/100\n",
            "474/474 [==============================] - 1s 3ms/step - loss: 1.2890 - accuracy: 0.6213 - val_loss: 1.3016 - val_accuracy: 0.6463\n",
            "Epoch 59/100\n",
            "474/474 [==============================] - 1s 3ms/step - loss: 1.2939 - accuracy: 0.6316 - val_loss: 1.2586 - val_accuracy: 0.6600\n",
            "Epoch 60/100\n",
            "474/474 [==============================] - 1s 2ms/step - loss: 1.3013 - accuracy: 0.6208 - val_loss: 1.3082 - val_accuracy: 0.6544\n",
            "Epoch 61/100\n",
            "474/474 [==============================] - 1s 3ms/step - loss: 1.3018 - accuracy: 0.6185 - val_loss: 1.3056 - val_accuracy: 0.6369\n",
            "Epoch 62/100\n",
            "474/474 [==============================] - 1s 3ms/step - loss: 1.2534 - accuracy: 0.6331 - val_loss: 1.3114 - val_accuracy: 0.6562\n",
            "Epoch 63/100\n",
            "474/474 [==============================] - 1s 2ms/step - loss: 1.2678 - accuracy: 0.6278 - val_loss: 1.3085 - val_accuracy: 0.6475\n",
            "Epoch 64/100\n",
            "474/474 [==============================] - 1s 2ms/step - loss: 1.2695 - accuracy: 0.6273 - val_loss: 1.3077 - val_accuracy: 0.6406\n",
            "Epoch 65/100\n",
            "474/474 [==============================] - 1s 2ms/step - loss: 1.2949 - accuracy: 0.6247 - val_loss: 1.2937 - val_accuracy: 0.6450\n",
            "Epoch 66/100\n",
            "474/474 [==============================] - 1s 2ms/step - loss: 1.2866 - accuracy: 0.6201 - val_loss: 1.2874 - val_accuracy: 0.6438\n",
            "Epoch 67/100\n",
            "474/474 [==============================] - 1s 2ms/step - loss: 1.2632 - accuracy: 0.6345 - val_loss: 1.2878 - val_accuracy: 0.6481\n",
            "Epoch 68/100\n",
            "474/474 [==============================] - 1s 2ms/step - loss: 1.2528 - accuracy: 0.6306 - val_loss: 1.3051 - val_accuracy: 0.6431\n",
            "Epoch 69/100\n",
            "474/474 [==============================] - 1s 2ms/step - loss: 1.2865 - accuracy: 0.6300 - val_loss: 1.3079 - val_accuracy: 0.6475\n",
            "Epoch 70/100\n",
            "474/474 [==============================] - 1s 2ms/step - loss: 1.2406 - accuracy: 0.6365 - val_loss: 1.3097 - val_accuracy: 0.6456\n",
            "Epoch 71/100\n",
            "474/474 [==============================] - 1s 2ms/step - loss: 1.2363 - accuracy: 0.6306 - val_loss: 1.3055 - val_accuracy: 0.6406\n",
            "Epoch 72/100\n",
            "474/474 [==============================] - 1s 2ms/step - loss: 1.2840 - accuracy: 0.6250 - val_loss: 1.3327 - val_accuracy: 0.6481\n",
            "Epoch 73/100\n",
            "474/474 [==============================] - 1s 2ms/step - loss: 1.2393 - accuracy: 0.6415 - val_loss: 1.3054 - val_accuracy: 0.6381\n",
            "Epoch 74/100\n",
            "474/474 [==============================] - 1s 2ms/step - loss: 1.2563 - accuracy: 0.6327 - val_loss: 1.2826 - val_accuracy: 0.6550\n",
            "Epoch 75/100\n",
            "474/474 [==============================] - 1s 2ms/step - loss: 1.2029 - accuracy: 0.6388 - val_loss: 1.2913 - val_accuracy: 0.6575\n",
            "Epoch 76/100\n",
            "474/474 [==============================] - 1s 2ms/step - loss: 1.2202 - accuracy: 0.6387 - val_loss: 1.3107 - val_accuracy: 0.6444\n",
            "Epoch 77/100\n",
            "474/474 [==============================] - 1s 2ms/step - loss: 1.2442 - accuracy: 0.6307 - val_loss: 1.3217 - val_accuracy: 0.6531\n",
            "Epoch 78/100\n",
            "474/474 [==============================] - 1s 2ms/step - loss: 1.2103 - accuracy: 0.6401 - val_loss: 1.3212 - val_accuracy: 0.6494\n",
            "Epoch 79/100\n",
            "474/474 [==============================] - 1s 2ms/step - loss: 1.2347 - accuracy: 0.6420 - val_loss: 1.3087 - val_accuracy: 0.6556\n",
            "Epoch 80/100\n",
            "474/474 [==============================] - 1s 2ms/step - loss: 1.2339 - accuracy: 0.6441 - val_loss: 1.3009 - val_accuracy: 0.6556\n",
            "Epoch 81/100\n",
            "474/474 [==============================] - 1s 2ms/step - loss: 1.2243 - accuracy: 0.6344 - val_loss: 1.2786 - val_accuracy: 0.6587\n",
            "Epoch 82/100\n",
            "474/474 [==============================] - 1s 3ms/step - loss: 1.2367 - accuracy: 0.6360 - val_loss: 1.2817 - val_accuracy: 0.6606\n",
            "Epoch 83/100\n",
            "474/474 [==============================] - 1s 2ms/step - loss: 1.2020 - accuracy: 0.6484 - val_loss: 1.3127 - val_accuracy: 0.6538\n",
            "Epoch 84/100\n",
            "474/474 [==============================] - 1s 2ms/step - loss: 1.1984 - accuracy: 0.6460 - val_loss: 1.3068 - val_accuracy: 0.6463\n",
            "Epoch 85/100\n",
            "474/474 [==============================] - 1s 2ms/step - loss: 1.1988 - accuracy: 0.6406 - val_loss: 1.3090 - val_accuracy: 0.6481\n",
            "Epoch 86/100\n",
            "474/474 [==============================] - 1s 2ms/step - loss: 1.2201 - accuracy: 0.6378 - val_loss: 1.3030 - val_accuracy: 0.6444\n",
            "Epoch 87/100\n",
            "474/474 [==============================] - 1s 3ms/step - loss: 1.2123 - accuracy: 0.6456 - val_loss: 1.3237 - val_accuracy: 0.6506\n",
            "Epoch 88/100\n",
            "474/474 [==============================] - 1s 2ms/step - loss: 1.2065 - accuracy: 0.6352 - val_loss: 1.3227 - val_accuracy: 0.6606\n",
            "Epoch 89/100\n",
            "474/474 [==============================] - 1s 3ms/step - loss: 1.1950 - accuracy: 0.6515 - val_loss: 1.3302 - val_accuracy: 0.6400\n",
            "Epoch 90/100\n",
            "474/474 [==============================] - 1s 2ms/step - loss: 1.1826 - accuracy: 0.6496 - val_loss: 1.3137 - val_accuracy: 0.6469\n",
            "Epoch 91/100\n",
            "474/474 [==============================] - 1s 3ms/step - loss: 1.1880 - accuracy: 0.6424 - val_loss: 1.2931 - val_accuracy: 0.6637\n",
            "Epoch 92/100\n",
            "474/474 [==============================] - 1s 3ms/step - loss: 1.2073 - accuracy: 0.6409 - val_loss: 1.2868 - val_accuracy: 0.6569\n",
            "Epoch 93/100\n",
            "474/474 [==============================] - 1s 3ms/step - loss: 1.2167 - accuracy: 0.6416 - val_loss: 1.2825 - val_accuracy: 0.6581\n",
            "Epoch 94/100\n",
            "474/474 [==============================] - 1s 2ms/step - loss: 1.2069 - accuracy: 0.6373 - val_loss: 1.3112 - val_accuracy: 0.6531\n",
            "Epoch 95/100\n",
            "474/474 [==============================] - 1s 3ms/step - loss: 1.2123 - accuracy: 0.6457 - val_loss: 1.3154 - val_accuracy: 0.6456\n",
            "Epoch 96/100\n",
            "474/474 [==============================] - 1s 2ms/step - loss: 1.1809 - accuracy: 0.6535 - val_loss: 1.3003 - val_accuracy: 0.6612\n",
            "Epoch 97/100\n",
            "474/474 [==============================] - 1s 2ms/step - loss: 1.1797 - accuracy: 0.6463 - val_loss: 1.2922 - val_accuracy: 0.6550\n",
            "Epoch 98/100\n",
            "474/474 [==============================] - 1s 2ms/step - loss: 1.1715 - accuracy: 0.6551 - val_loss: 1.3078 - val_accuracy: 0.6531\n",
            "Epoch 99/100\n",
            "474/474 [==============================] - 1s 2ms/step - loss: 1.1852 - accuracy: 0.6491 - val_loss: 1.3420 - val_accuracy: 0.6456\n",
            "Epoch 100/100\n",
            "474/474 [==============================] - 1s 2ms/step - loss: 1.1654 - accuracy: 0.6497 - val_loss: 1.3175 - val_accuracy: 0.6556\n"
          ],
          "name": "stdout"
        },
        {
          "output_type": "display_data",
          "data": {
            "image/png": "[encoded data removed]",
            "text/plain": [
              "<Figure size 1080x504 with 2 Axes>"
            ]
          },
          "metadata": {
            "tags": [],
            "needs_background": "light"
          }
        }
      ]
    },
    {
      "cell_type": "code",
      "metadata": {
        "colab": {
          "base_uri": "https://localhost:8080/",
          "height": 1000
        },
        "id": "FR935mxOdu5J",
        "outputId": "aee8e58d-4ded-4c90-fb6f-35481ced4530"
      },
      "source": [
        "#компиляция\n",
        "model1.compile(optimizer=Adam(lr=1e-4),loss=\"sparse_categorical_crossentropy\",metrics=[\"accuracy\"])\n",
        "\n",
        "#обучение\n",
        "history1=model1.fit(xTrain,yTrain,\n",
        "                    epochs=20,batch_size=20,\n",
        "                    validation_data=(xTest,yTest))\n",
        "\n",
        "draw(history1)"
      ],
      "execution_count": null,
      "outputs": [
        {
          "output_type": "stream",
          "text": [
            "Epoch 1/20\n",
            "474/474 [==============================] - 2s 3ms/step - loss: 1.1491 - accuracy: 0.6636 - val_loss: 1.2919 - val_accuracy: 0.6538\n",
            "Epoch 2/20\n",
            "474/474 [==============================] - 1s 3ms/step - loss: 1.1294 - accuracy: 0.6689 - val_loss: 1.2843 - val_accuracy: 0.6569\n",
            "Epoch 3/20\n",
            "474/474 [==============================] - 1s 2ms/step - loss: 1.0852 - accuracy: 0.6684 - val_loss: 1.2828 - val_accuracy: 0.6625\n",
            "Epoch 4/20\n",
            "474/474 [==============================] - 1s 2ms/step - loss: 1.1059 - accuracy: 0.6673 - val_loss: 1.2754 - val_accuracy: 0.6600\n",
            "Epoch 5/20\n",
            "474/474 [==============================] - 1s 2ms/step - loss: 1.1132 - accuracy: 0.6680 - val_loss: 1.2767 - val_accuracy: 0.6644\n",
            "Epoch 6/20\n",
            "474/474 [==============================] - 1s 2ms/step - loss: 1.0620 - accuracy: 0.6789 - val_loss: 1.2737 - val_accuracy: 0.6637\n",
            "Epoch 7/20\n",
            "474/474 [==============================] - 1s 2ms/step - loss: 1.0488 - accuracy: 0.6828 - val_loss: 1.2674 - val_accuracy: 0.6706\n",
            "Epoch 8/20\n",
            "474/474 [==============================] - 1s 2ms/step - loss: 1.0777 - accuracy: 0.6833 - val_loss: 1.2700 - val_accuracy: 0.6694\n",
            "Epoch 9/20\n",
            "474/474 [==============================] - 1s 3ms/step - loss: 1.0706 - accuracy: 0.6752 - val_loss: 1.2669 - val_accuracy: 0.6681\n",
            "Epoch 10/20\n",
            "474/474 [==============================] - 1s 2ms/step - loss: 1.0662 - accuracy: 0.6874 - val_loss: 1.2641 - val_accuracy: 0.6675\n",
            "Epoch 11/20\n",
            "474/474 [==============================] - 1s 2ms/step - loss: 1.0346 - accuracy: 0.6963 - val_loss: 1.2681 - val_accuracy: 0.6700\n",
            "Epoch 12/20\n",
            "474/474 [==============================] - 1s 2ms/step - loss: 1.0388 - accuracy: 0.6824 - val_loss: 1.2685 - val_accuracy: 0.6725\n",
            "Epoch 13/20\n",
            "474/474 [==============================] - 1s 3ms/step - loss: 1.0701 - accuracy: 0.6827 - val_loss: 1.2706 - val_accuracy: 0.6669\n",
            "Epoch 14/20\n",
            "474/474 [==============================] - 1s 2ms/step - loss: 1.0482 - accuracy: 0.6837 - val_loss: 1.2693 - val_accuracy: 0.6669\n",
            "Epoch 15/20\n",
            "474/474 [==============================] - 1s 2ms/step - loss: 1.0417 - accuracy: 0.6888 - val_loss: 1.2705 - val_accuracy: 0.6694\n",
            "Epoch 16/20\n",
            "474/474 [==============================] - 1s 3ms/step - loss: 1.0636 - accuracy: 0.6871 - val_loss: 1.2659 - val_accuracy: 0.6725\n",
            "Epoch 17/20\n",
            "474/474 [==============================] - 1s 2ms/step - loss: 1.0537 - accuracy: 0.6845 - val_loss: 1.2669 - val_accuracy: 0.6725\n",
            "Epoch 18/20\n",
            "474/474 [==============================] - 1s 2ms/step - loss: 1.0339 - accuracy: 0.6894 - val_loss: 1.2653 - val_accuracy: 0.6725\n",
            "Epoch 19/20\n",
            "474/474 [==============================] - 1s 2ms/step - loss: 1.0474 - accuracy: 0.6817 - val_loss: 1.2644 - val_accuracy: 0.6712\n",
            "Epoch 20/20\n",
            "474/474 [==============================] - 1s 2ms/step - loss: 1.0416 - accuracy: 0.6881 - val_loss: 1.2631 - val_accuracy: 0.6737\n"
          ],
          "name": "stdout"
        },
        {
          "output_type": "display_data",
          "data": {
            "image/png": "[encoded data removed]",
            "text/plain": [
              "<Figure size 1080x504 with 2 Axes>"
            ]
          },
          "metadata": {
            "tags": [],
            "needs_background": "light"
          }
        }
      ]
    },
    {
      "cell_type": "markdown",
      "metadata": {
        "id": "LHaR9HIYgahE"
      },
      "source": [
        "#Вывод"
      ]
    },
    {
      "cell_type": "markdown",
      "metadata": {
        "id": "hgCmzjvrgfj3"
      },
      "source": [
        "В данной работе была построена полносвязная нейронная сеть по классификации музыкальных инструментов с 2 скрытми слоями и с примененим 30-типроцетного dropout после каждого Dense-слоя. Для обучения и тестирования модели была использована  база данных FSDKaggle2018 с сэмплами для 41-го различного инструмента.Полученная точность на проверочной выборке равна 67.37%, график ошибки обучения имеет небольшой орицательный тренд, что говорит о возможности увеличения точности модели при уменьшении шага обучения. Также точность модели может улучшить более точный подбор архитектуры, гиперпарамеров и увеличение объема набора данных."
      ]
    }
  ]
}